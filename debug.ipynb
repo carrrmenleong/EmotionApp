{
 "cells": [
  {
   "cell_type": "code",
   "execution_count": 17,
   "metadata": {},
   "outputs": [],
   "source": [
    "import sys\n",
    "sys.path.append(\"..\") # allows for the previous directory to be searched too\n",
    "from app import db\n",
    "from app.models import User,Session,Participant,Response #imports all tables\n",
    "from sqlalchemy import func"
   ]
  },
  {
   "cell_type": "code",
   "execution_count": 29,
   "metadata": {},
   "outputs": [
    {
     "data": {
      "text/plain": [
       "[<Id: 5, Username: admin, Email: carmen020824@gmail.com>,\n",
       " <Id: 6, Username: admin, Email: emotionappmoodtrack@gmail.com>]"
      ]
     },
     "execution_count": 29,
     "metadata": {},
     "output_type": "execute_result"
    }
   ],
   "source": [
    "# Query All Users\n",
    "user = User.query.all()\n",
    "user"
   ]
  },
  {
   "cell_type": "code",
   "execution_count": 5,
   "metadata": {},
   "outputs": [
    {
     "data": {
      "text/plain": [
       "[<Id: 1, published: False, session_title: CITS3002, consent: hELoo\n",
       " sfdjajo\n",
       " Usadfjo, emotions: eh\n",
       " meh\n",
       " neh, intensity: 4, pre_ques: [\"test1\",\"test2\\nyes\\nno\\nbluh\"], post_ques: [\"testing\",\"te\\ny\\nno\\nye\"], user_id: None>,\n",
       " <Id: 2, published: False, session_title: CITS3003, consent: hELoo\n",
       " sfdjajo\n",
       " Usadfjo, emotions: eh\n",
       " meh\n",
       " neh, intensity: 4, pre_ques: [\"test1\",\"test2\\nyes\\nno\\nbluh\"], post_ques: [\"testing\",\"te\\ny\\nno\\nye\"], user_id: None>,\n",
       " <Id: 3, published: False, session_title: CITS3004, consent: hELoo\n",
       " sfdjajo\n",
       " Usadfjo, emotions: eh\n",
       " meh\n",
       " neh, intensity: 4, pre_ques: [\"test1\",\"test2\\nyes\\nno\\nbluh\"], post_ques: [\"testing\",\"te\\ny\\nno\\nye\"], user_id: None>,\n",
       " <Id: 4, published: False, session_title: dsafdsfs, consent: dsfafdsaf\n",
       " dsafs\n",
       " sadf, emotions: dsf\n",
       " fds\n",
       " fd, intensity: 3, pre_ques: [\"asfdsa\\ndd\\nfd\",\"adsaf\"], post_ques: [\"dasfasdfdsa\\nfjdi\\nfd\",\"afdsa\"], user_id: None>,\n",
       " <Id: 5, published: False, session_title: dsafdsfs, consent: dsfafdsaf\n",
       " dsafs\n",
       " sadf, emotions: dsf\n",
       " fds\n",
       " fd, intensity: 3, pre_ques: [\"asfdsa\\ndd\\nfd\",\"adsaf\"], post_ques: [\"dasfasdfdsa\\nfjdi\\nfd\",\"afdsa\"], user_id: None>,\n",
       " <Id: 6, published: False, session_title: dsafdsfs, consent: dsfafdsaf\n",
       " dsafs\n",
       " sadf , emotions: dsf\n",
       " fds\n",
       " fd, intensity: 3, pre_ques: [\"asfdsa\\ndd\\nfd\",\"adsaf\"], post_ques: [\"dasfasdfdsa\\nfjdi\\nfd\",\"afdsa\"], user_id: None>,\n",
       " <Id: 7, published: False, session_title: asfd, consent: asf, emotions: dsf, intensity: 3, pre_ques: [\"dsfa\"], post_ques: [\"afsd\"], user_id: 5>,\n",
       " <Id: 8, published: False, session_title: asfd, consent: asf, emotions: dsf, intensity: 3, pre_ques: [\"dsfa\"], post_ques: [\"afsd\"], user_id: 5>]"
      ]
     },
     "execution_count": 5,
     "metadata": {},
     "output_type": "execute_result"
    }
   ],
   "source": [
    "# Query All Sessions\n",
    "session = Session.query.all()\n",
    "session"
   ]
  },
  {
   "cell_type": "code",
   "execution_count": 16,
   "metadata": {},
   "outputs": [
    {
     "data": {
      "text/plain": [
       "[<Id: 1, stage_num: 5, session_id:1 pre_ques_ans:['yeah', 'yes', 'yup'], post_ques_ans:['yeah', 'yes', 'yup']>,\n",
       " <Id: 2, stage_num: 5, session_id:1 pre_ques_ans:['yeah', 'yes', 'yup'], post_ques_ans:['yeah', 'yes', 'yup']>,\n",
       " <Id: 3, stage_num: 5, session_id:1 pre_ques_ans:['yeah', 'yes', 'yup'], post_ques_ans:['yeah', 'yes', 'yup']>,\n",
       " <Id: 4, stage_num: 5, session_id:5 pre_ques_ans:['yeah', 'yes', 'yup'], post_ques_ans:['yeah', 'yes', 'yup']>,\n",
       " <Id: 5, stage_num: 5, session_id:5 pre_ques_ans:['yeah', 'yes', 'yup'], post_ques_ans:['yeah', 'yes', 'yup']>,\n",
       " <Id: 6, stage_num: 5, session_id:1 pre_ques_ans:['yeah', 'yes', 'yup'], post_ques_ans:['yeah', 'yes', 'yup']>,\n",
       " <Id: 7, stage_num: 5, session_id:1 pre_ques_ans:['yeah', 'yes', 'yup'], post_ques_ans:['yeah', 'yes', 'yup']>]"
      ]
     },
     "execution_count": 16,
     "metadata": {},
     "output_type": "execute_result"
    }
   ],
   "source": [
    "# Query all participants\n",
    "participants = Participant.query.all()\n",
    "participants"
   ]
  },
  {
   "cell_type": "code",
   "execution_count": 15,
   "metadata": {},
   "outputs": [
    {
     "data": {
      "text/plain": [
       "[<Id: 1, emotion: sad, timestamp:2022-09-19 17:25:27.660360, intensity:10>,\n",
       " <Id: 2, emotion: happy, timestamp:2022-09-19 17:25:27.667841, intensity:5>,\n",
       " <Id: 3, emotion: sad, timestamp:2022-09-19 17:25:28.092740, intensity:10>,\n",
       " <Id: 4, emotion: happy, timestamp:2022-09-19 17:25:28.096303, intensity:5>,\n",
       " <Id: 5, emotion: sad, timestamp:2022-09-19 17:25:28.720037, intensity:10>,\n",
       " <Id: 6, emotion: happy, timestamp:2022-09-19 17:25:28.720752, intensity:5>,\n",
       " <Id: 7, emotion: sad, timestamp:2022-09-19 17:25:41.042404, intensity:10>,\n",
       " <Id: 8, emotion: happy, timestamp:2022-09-19 17:25:41.044503, intensity:5>,\n",
       " <Id: 9, emotion: sad, timestamp:2022-09-19 17:25:41.046510, intensity:10>,\n",
       " <Id: 10, emotion: happy, timestamp:2022-09-19 17:25:41.061102, intensity:5>,\n",
       " <Id: 11, emotion: sad, timestamp:2022-09-19 17:25:41.386027, intensity:10>,\n",
       " <Id: 12, emotion: happy, timestamp:2022-09-19 17:25:41.386027, intensity:5>,\n",
       " <Id: 13, emotion: sad, timestamp:2022-09-19 17:25:53.406494, intensity:10>,\n",
       " <Id: 14, emotion: happy, timestamp:2022-09-19 17:25:53.409277, intensity:5>,\n",
       " <Id: 15, emotion: sad, timestamp:2022-09-19 17:25:54.904998, intensity:10>,\n",
       " <Id: 16, emotion: happy, timestamp:2022-09-19 17:25:54.919961, intensity:5>,\n",
       " <Id: 17, emotion: sad, timestamp:2022-09-19 17:25:55.704541, intensity:10>,\n",
       " <Id: 18, emotion: happy, timestamp:2022-09-19 17:25:55.707946, intensity:5>,\n",
       " <Id: 19, emotion: sad, timestamp:2022-09-19 17:25:56.420972, intensity:10>,\n",
       " <Id: 20, emotion: happy, timestamp:2022-09-19 17:25:56.420972, intensity:5>,\n",
       " <Id: 21, emotion: sad, timestamp:2022-09-19 17:26:11.795554, intensity:10>,\n",
       " <Id: 22, emotion: happy, timestamp:2022-09-19 17:26:11.803646, intensity:5>,\n",
       " <Id: 23, emotion: sad, timestamp:2022-09-19 17:26:12.675722, intensity:10>,\n",
       " <Id: 24, emotion: happy, timestamp:2022-09-19 17:26:12.679810, intensity:5>,\n",
       " <Id: 25, emotion: sad, timestamp:2022-09-19 17:26:12.902779, intensity:10>,\n",
       " <Id: 26, emotion: happy, timestamp:2022-09-19 17:26:12.904892, intensity:5>,\n",
       " <Id: 27, emotion: sad, timestamp:2022-09-19 17:26:23.269470, intensity:10>,\n",
       " <Id: 28, emotion: happy, timestamp:2022-09-19 17:26:23.271355, intensity:5>,\n",
       " <Id: 29, emotion: sad, timestamp:2022-09-19 17:26:23.391596, intensity:10>,\n",
       " <Id: 30, emotion: happy, timestamp:2022-09-19 17:26:23.394675, intensity:5>,\n",
       " <Id: 31, emotion: sad, timestamp:2022-09-19 17:26:24.112127, intensity:10>,\n",
       " <Id: 32, emotion: happy, timestamp:2022-09-19 17:26:24.115023, intensity:5>,\n",
       " <Id: 33, emotion: sad, timestamp:2022-09-19 17:49:07.565172, intensity:10>,\n",
       " <Id: 34, emotion: happy, timestamp:2022-09-19 17:49:07.571180, intensity:5>,\n",
       " <Id: 35, emotion: sad, timestamp:2022-09-19 17:49:08.191170, intensity:10>,\n",
       " <Id: 36, emotion: happy, timestamp:2022-09-19 17:49:08.192170, intensity:5>,\n",
       " <Id: 37, emotion: sad, timestamp:2022-09-19 17:49:23.358929, intensity:10>,\n",
       " <Id: 38, emotion: happy, timestamp:2022-09-19 17:49:23.360933, intensity:5>,\n",
       " <Id: 39, emotion: sad, timestamp:2022-09-19 17:49:25.417495, intensity:10>,\n",
       " <Id: 40, emotion: happy, timestamp:2022-09-19 17:49:25.418501, intensity:5>]"
      ]
     },
     "execution_count": 15,
     "metadata": {},
     "output_type": "execute_result"
    }
   ],
   "source": [
    "# Query all responses\n",
    "response = Response.query.all()\n",
    "response"
   ]
  },
  {
   "cell_type": "code",
   "execution_count": 11,
   "metadata": {},
   "outputs": [],
   "source": [
    "# Delete all data\n",
    "try:\n",
    "    db.session.query(User).delete()\n",
    "    db.session.query(Participant).delete()\n",
    "    db.session.query(Response).delete()\n",
    "    db.session.query(Session).delete()\n",
    "    db.session.commit()\n",
    "except:\n",
    "    db.session.rollback()"
   ]
  },
  {
   "cell_type": "code",
   "execution_count": 12,
   "metadata": {},
   "outputs": [],
   "source": [
    "# Delete specific rows base on condition\n",
    "participant = Participant.query.filter_by(session_id=12).all()\n",
    "delete_q = Participant.__table__.delete().where(Participant.session_id == 12)\n",
    "db.session.execute(delete_q)\n",
    "db.session.commit()"
   ]
  }
 ],
 "metadata": {
  "kernelspec": {
   "display_name": "Python 3.9.13 ('venv': venv)",
   "language": "python",
   "name": "python3"
  },
  "language_info": {
   "codemirror_mode": {
    "name": "ipython",
    "version": 3
   },
   "file_extension": ".py",
   "mimetype": "text/x-python",
   "name": "python",
   "nbconvert_exporter": "python",
   "pygments_lexer": "ipython3",
   "version": "3.9.13"
  },
  "orig_nbformat": 4,
  "vscode": {
   "interpreter": {
    "hash": "33cf019bd40803a129f97b35411542b67434196ef728b81d71bee81e37351f95"
   }
  }
 },
 "nbformat": 4,
 "nbformat_minor": 2
}
