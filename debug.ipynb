{
 "cells": [
  {
   "cell_type": "code",
   "execution_count": 1,
   "metadata": {},
   "outputs": [],
   "source": [
    "import sys\n",
    "sys.path.append(\"..\") # allows for the previous directory to be searched too\n",
    "from app import db\n",
    "from app.models import User,Session,Participant,Response #imports all tables\n",
    "from sqlalchemy import func"
   ]
  },
  {
   "cell_type": "code",
   "execution_count": 35,
   "metadata": {},
   "outputs": [
    {
     "data": {
      "text/plain": [
       "1"
      ]
     },
     "execution_count": 35,
     "metadata": {},
     "output_type": "execute_result"
    }
   ],
   "source": [
    "user = User.query.first()\n",
    "user.id"
   ]
  },
  {
   "cell_type": "code",
   "execution_count": 36,
   "metadata": {},
   "outputs": [
    {
     "data": {
      "text/plain": [
       "[<Id: 0, published: False, session_title: test1, consent: fdgdfs, emotions: happy\n",
       " sad\n",
       " tetst, intensity: 4, pre_ques: ['asdf'], post_ques: ['fdas'], user_id: 2>,\n",
       " <Id: 1, published: False, session_title: fsad, consent:  adfs, emotions:  fdas, intensity: 4, pre_ques: [' sfad'], post_ques: [' afs'], user_id: 2>,\n",
       " <Id: 2, published: False, session_title: asdf, consent:  adfs, emotions:  afds, intensity: 5, pre_ques: [' afds'], post_ques: [' dshaf'], user_id: 2>]"
      ]
     },
     "execution_count": 36,
     "metadata": {},
     "output_type": "execute_result"
    }
   ],
   "source": [
    "session = Session.query.all()\n",
    "session"
   ]
  },
  {
   "cell_type": "code",
   "execution_count": 37,
   "metadata": {},
   "outputs": [
    {
     "data": {
      "text/plain": [
       "[]"
      ]
     },
     "execution_count": 37,
     "metadata": {},
     "output_type": "execute_result"
    }
   ],
   "source": [
    "sessions = Session.query.filter_by(user_id = 1).all()\n",
    "sessions"
   ]
  },
  {
   "cell_type": "code",
   "execution_count": 13,
   "metadata": {},
   "outputs": [
    {
     "data": {
      "text/plain": [
       "[<Id: 1, stage_num: 3, session_id:7 pre_ques_ans:['yeah'], post_ques_ans:None>,\n",
       " <Id: 6, stage_num: 5, session_id:13 pre_ques_ans:['yeah', 'yes', 'yup'], post_ques_ans:['yeah', 'yes', 'yup']>,\n",
       " <Id: 7, stage_num: 5, session_id:13 pre_ques_ans:['yeah', 'yes', 'yup'], post_ques_ans:['yeah', 'yes', 'yup']>,\n",
       " <Id: 8, stage_num: 5, session_id:13 pre_ques_ans:['yeah', 'yes', 'yup'], post_ques_ans:['yeah', 'yes', 'yup']>]"
      ]
     },
     "execution_count": 13,
     "metadata": {},
     "output_type": "execute_result"
    }
   ],
   "source": [
    "participants = Participant.query.all()\n",
    "participants"
   ]
  },
  {
   "cell_type": "code",
   "execution_count": 41,
   "metadata": {},
   "outputs": [],
   "source": [
    "try:\n",
    "    db.session.query(Participant).delete()\n",
    "    db.session.query(Response).delete()\n",
    "    db.session.commit()\n",
    "except:\n",
    "    db.session.rollback()"
   ]
  },
  {
   "cell_type": "code",
   "execution_count": 42,
   "metadata": {},
   "outputs": [
    {
     "data": {
      "text/plain": [
       "[]"
      ]
     },
     "execution_count": 42,
     "metadata": {},
     "output_type": "execute_result"
    }
   ],
   "source": [
    "response = Response.query.all()\n",
    "response"
   ]
  },
  {
   "cell_type": "code",
   "execution_count": 12,
   "metadata": {},
   "outputs": [],
   "source": [
    "# participant = Participant.query.filter_by(session_id=12).all()\n",
    "delete_q = Participant.__table__.delete().where(Participant.session_id == 12)\n",
    "db.session.execute(delete_q)\n",
    "db.session.commit()"
   ]
  }
 ],
 "metadata": {
  "kernelspec": {
   "display_name": "Python 3.9.13 ('venv': venv)",
   "language": "python",
   "name": "python3"
  },
  "language_info": {
   "codemirror_mode": {
    "name": "ipython",
    "version": 3
   },
   "file_extension": ".py",
   "mimetype": "text/x-python",
   "name": "python",
   "nbconvert_exporter": "python",
   "pygments_lexer": "ipython3",
   "version": "3.9.13"
  },
  "orig_nbformat": 4,
  "vscode": {
   "interpreter": {
    "hash": "33cf019bd40803a129f97b35411542b67434196ef728b81d71bee81e37351f95"
   }
  }
 },
 "nbformat": 4,
 "nbformat_minor": 2
}
