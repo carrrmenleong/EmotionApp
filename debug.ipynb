{
 "cells": [
  {
   "cell_type": "code",
   "execution_count": 2,
   "metadata": {},
   "outputs": [],
   "source": [
    "import sys\n",
    "sys.path.append(\"..\") # allows for the previous directory to be searched too\n",
    "from app import db\n",
    "from app.models import User,Session,Participant,Response #imports all tables\n",
    "from sqlalchemy import func"
   ]
  },
  {
   "cell_type": "code",
   "execution_count": 3,
   "metadata": {},
   "outputs": [
    {
     "data": {
      "text/plain": [
       "[<Id: 1, Username: Carmen, Email: clkw0824@gmail.com>,\n",
       " <Id: 2, Username: mandeal, Email: mandealtan98@gmail.com>]"
      ]
     },
     "execution_count": 3,
     "metadata": {},
     "output_type": "execute_result"
    }
   ],
   "source": [
    "user = User.query.all()\n",
    "user"
   ]
  },
  {
   "cell_type": "code",
   "execution_count": 3,
   "metadata": {},
   "outputs": [
    {
     "data": {
      "text/plain": [
       "[<Id: 0, published: True, session_title: bleuh, consent: consent mtfk, emotions: happy\n",
       " sad, intensity: None, pre_ques: {'1': 'question1', '2': 'question2'}, post_ques: {'1': 'idk1', '2': 'idk2'}, user_id: 1>,\n",
       " <Id: 1, published: False, session_title: bleuh, consent: consent mtfk, emotions: happy\n",
       " sad, intensity: None, pre_ques: {'1': 'question1', '2': 'question2'}, post_ques: {'1': 'idk1', '2': 'idk2'}, user_id: 1>,\n",
       " <Id: 2, published: False, session_title: bleuh, consent: consent mtfk, emotions: happy\n",
       " sad, intensity: None, pre_ques: {'1': 'question1', '2': 'question2'}, post_ques: {'1': 'idk1', '2': 'idk2'}, user_id: 1>,\n",
       " <Id: 3, published: False, session_title: HEHE, consent: consent mtfk, emotions: happy\n",
       " sad, intensity: None, pre_ques: ['q1(open ended)', 'q2(mult choice)\\noption1\\noption2'], post_ques: ['q1(open ended)', 'q2(mult choice)\\noption1\\noption2'], user_id: 1>,\n",
       " <Id: 4, published: False, session_title: HEHE, consent: consent mtfk, emotions: happy\n",
       " sad, intensity: None, pre_ques: ['q1(open ended)', 'q2(mult choice)\\noption1\\noption2'], post_ques: ['q1(open ended)', 'q2(mult choice)\\noption1\\noption2'], user_id: 1>,\n",
       " <Id: 5, published: False, session_title: HEHE, consent: consent mtfk, emotions: happy\n",
       " sad, intensity: None, pre_ques: ['q1(open ended)', 'q2(mult choice)\\noption1\\noption2'], post_ques: ['q1(open ended)', 'q2(mult choice)\\noption1\\noption2'], user_id: 1>,\n",
       " <Id: 6, published: False, session_title: HEHE, consent: consent mtfk, emotions: happy\n",
       " sad, intensity: None, pre_ques: ['q1(open ended)', 'q2(mult choice)\\noption1\\noption2'], post_ques: ['q1(open ended)', 'q2(mult choice)\\noption1\\noption2'], user_id: 1>,\n",
       " <Id: 7, published: False, session_title: HEHE, consent: consent mtfk, emotions: happy\n",
       " sad, intensity: None, pre_ques: ['q1(open ended)', 'q2(mult choice)\\noption1\\noption2'], post_ques: ['q1(open ended)', 'q2(mult choice)\\noption1\\noption2'], user_id: 1>]"
      ]
     },
     "execution_count": 3,
     "metadata": {},
     "output_type": "execute_result"
    }
   ],
   "source": [
    "session = Session.query.all()\n",
    "session"
   ]
  },
  {
   "cell_type": "code",
   "execution_count": null,
   "metadata": {},
   "outputs": [],
   "source": [
    "sessions = Session.query.filter_by(user_id = 1).all()\n",
    "sessions"
   ]
  }
 ],
 "metadata": {
  "kernelspec": {
   "display_name": "Python 3.9.13 ('venv': venv)",
   "language": "python",
   "name": "python3"
  },
  "language_info": {
   "codemirror_mode": {
    "name": "ipython",
    "version": 3
   },
   "file_extension": ".py",
   "mimetype": "text/x-python",
   "name": "python",
   "nbconvert_exporter": "python",
   "pygments_lexer": "ipython3",
   "version": "3.9.13"
  },
  "orig_nbformat": 4,
  "vscode": {
   "interpreter": {
    "hash": "33cf019bd40803a129f97b35411542b67434196ef728b81d71bee81e37351f95"
   }
  }
 },
 "nbformat": 4,
 "nbformat_minor": 2
}
