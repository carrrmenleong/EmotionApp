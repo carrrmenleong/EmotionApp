{
 "cells": [
  {
   "cell_type": "code",
   "execution_count": 2,
   "metadata": {},
   "outputs": [],
   "source": [
    "import sys\n",
    "sys.path.append(\"..\") # allows for the previous directory to be searched too\n",
    "from app import db\n",
    "from app.models import User,Session,Participant,Response #imports all tables\n",
    "from sqlalchemy import func"
   ]
  },
  {
   "cell_type": "code",
   "execution_count": 3,
   "metadata": {},
   "outputs": [
    {
     "ename": "RuntimeError",
     "evalue": "No application found. Either work inside a view function or push an application context. See http://flask-sqlalchemy.pocoo.org/contexts/.",
     "output_type": "error",
     "traceback": [
      "\u001b[1;31m---------------------------------------------------------------------------\u001b[0m",
      "\u001b[1;31mKeyError\u001b[0m                                  Traceback (most recent call last)",
      "File \u001b[1;32mc:\\Users\\user\\Desktop\\WebDev Project\\EmotionApp\\venv\\lib\\site-packages\\sqlalchemy\\util\\_collections.py:1008\u001b[0m, in \u001b[0;36mScopedRegistry.__call__\u001b[1;34m(self)\u001b[0m\n\u001b[0;32m   1007\u001b[0m \u001b[39mtry\u001b[39;00m:\n\u001b[1;32m-> 1008\u001b[0m     \u001b[39mreturn\u001b[39;00m \u001b[39mself\u001b[39;49m\u001b[39m.\u001b[39;49mregistry[key]\n\u001b[0;32m   1009\u001b[0m \u001b[39mexcept\u001b[39;00m \u001b[39mKeyError\u001b[39;00m:\n",
      "\u001b[1;31mKeyError\u001b[0m: <greenlet.greenlet object at 0x000001C0F890BE00 (otid=0x000001C0F3491E40) current active started main>",
      "\nDuring handling of the above exception, another exception occurred:\n",
      "\u001b[1;31mRuntimeError\u001b[0m                              Traceback (most recent call last)",
      "\u001b[1;32mc:\\Users\\user\\Desktop\\WebDev Project\\EmotionApp\\debug.ipynb Cell 2\u001b[0m in \u001b[0;36m<cell line: 2>\u001b[1;34m()\u001b[0m\n\u001b[0;32m      <a href='vscode-notebook-cell:/c%3A/Users/user/Desktop/WebDev%20Project/EmotionApp/debug.ipynb#W1sZmlsZQ%3D%3D?line=0'>1</a>\u001b[0m \u001b[39m# Query All Users\u001b[39;00m\n\u001b[1;32m----> <a href='vscode-notebook-cell:/c%3A/Users/user/Desktop/WebDev%20Project/EmotionApp/debug.ipynb#W1sZmlsZQ%3D%3D?line=1'>2</a>\u001b[0m user \u001b[39m=\u001b[39m User\u001b[39m.\u001b[39;49mquery\u001b[39m.\u001b[39mall()\n\u001b[0;32m      <a href='vscode-notebook-cell:/c%3A/Users/user/Desktop/WebDev%20Project/EmotionApp/debug.ipynb#W1sZmlsZQ%3D%3D?line=2'>3</a>\u001b[0m user\n",
      "File \u001b[1;32mc:\\Users\\user\\Desktop\\WebDev Project\\EmotionApp\\venv\\lib\\site-packages\\flask_sqlalchemy\\__init__.py:552\u001b[0m, in \u001b[0;36m_QueryProperty.__get__\u001b[1;34m(self, obj, type)\u001b[0m\n\u001b[0;32m    550\u001b[0m     mapper \u001b[39m=\u001b[39m orm\u001b[39m.\u001b[39mclass_mapper(\u001b[39mtype\u001b[39m)\n\u001b[0;32m    551\u001b[0m     \u001b[39mif\u001b[39;00m mapper:\n\u001b[1;32m--> 552\u001b[0m         \u001b[39mreturn\u001b[39;00m \u001b[39mtype\u001b[39m\u001b[39m.\u001b[39mquery_class(mapper, session\u001b[39m=\u001b[39m\u001b[39mself\u001b[39;49m\u001b[39m.\u001b[39;49msa\u001b[39m.\u001b[39;49msession())\n\u001b[0;32m    553\u001b[0m \u001b[39mexcept\u001b[39;00m UnmappedClassError:\n\u001b[0;32m    554\u001b[0m     \u001b[39mreturn\u001b[39;00m \u001b[39mNone\u001b[39;00m\n",
      "File \u001b[1;32mc:\\Users\\user\\Desktop\\WebDev Project\\EmotionApp\\venv\\lib\\site-packages\\sqlalchemy\\orm\\scoping.py:47\u001b[0m, in \u001b[0;36mScopedSessionMixin.__call__\u001b[1;34m(self, **kw)\u001b[0m\n\u001b[0;32m     45\u001b[0m         \u001b[39mself\u001b[39m\u001b[39m.\u001b[39mregistry\u001b[39m.\u001b[39mset(sess)\n\u001b[0;32m     46\u001b[0m \u001b[39melse\u001b[39;00m:\n\u001b[1;32m---> 47\u001b[0m     sess \u001b[39m=\u001b[39m \u001b[39mself\u001b[39;49m\u001b[39m.\u001b[39;49mregistry()\n\u001b[0;32m     48\u001b[0m \u001b[39mif\u001b[39;00m \u001b[39mnot\u001b[39;00m \u001b[39mself\u001b[39m\u001b[39m.\u001b[39m_support_async \u001b[39mand\u001b[39;00m sess\u001b[39m.\u001b[39m_is_asyncio:\n\u001b[0;32m     49\u001b[0m     warn_deprecated(\n\u001b[0;32m     50\u001b[0m         \u001b[39m\"\u001b[39m\u001b[39mUsing `scoped_session` with asyncio is deprecated and \u001b[39m\u001b[39m\"\u001b[39m\n\u001b[0;32m     51\u001b[0m         \u001b[39m\"\u001b[39m\u001b[39mwill raise an error in a future version. \u001b[39m\u001b[39m\"\u001b[39m\n\u001b[0;32m     52\u001b[0m         \u001b[39m\"\u001b[39m\u001b[39mPlease use `async_scoped_session` instead.\u001b[39m\u001b[39m\"\u001b[39m,\n\u001b[0;32m     53\u001b[0m         \u001b[39m\"\u001b[39m\u001b[39m1.4.23\u001b[39m\u001b[39m\"\u001b[39m,\n\u001b[0;32m     54\u001b[0m     )\n",
      "File \u001b[1;32mc:\\Users\\user\\Desktop\\WebDev Project\\EmotionApp\\venv\\lib\\site-packages\\sqlalchemy\\util\\_collections.py:1010\u001b[0m, in \u001b[0;36mScopedRegistry.__call__\u001b[1;34m(self)\u001b[0m\n\u001b[0;32m   1008\u001b[0m     \u001b[39mreturn\u001b[39;00m \u001b[39mself\u001b[39m\u001b[39m.\u001b[39mregistry[key]\n\u001b[0;32m   1009\u001b[0m \u001b[39mexcept\u001b[39;00m \u001b[39mKeyError\u001b[39;00m:\n\u001b[1;32m-> 1010\u001b[0m     \u001b[39mreturn\u001b[39;00m \u001b[39mself\u001b[39m\u001b[39m.\u001b[39mregistry\u001b[39m.\u001b[39msetdefault(key, \u001b[39mself\u001b[39;49m\u001b[39m.\u001b[39;49mcreatefunc())\n",
      "File \u001b[1;32mc:\\Users\\user\\Desktop\\WebDev Project\\EmotionApp\\venv\\lib\\site-packages\\sqlalchemy\\orm\\session.py:4225\u001b[0m, in \u001b[0;36msessionmaker.__call__\u001b[1;34m(self, **local_kw)\u001b[0m\n\u001b[0;32m   4223\u001b[0m     \u001b[39melse\u001b[39;00m:\n\u001b[0;32m   4224\u001b[0m         local_kw\u001b[39m.\u001b[39msetdefault(k, v)\n\u001b[1;32m-> 4225\u001b[0m \u001b[39mreturn\u001b[39;00m \u001b[39mself\u001b[39m\u001b[39m.\u001b[39mclass_(\u001b[39m*\u001b[39m\u001b[39m*\u001b[39mlocal_kw)\n",
      "File \u001b[1;32mc:\\Users\\user\\Desktop\\WebDev Project\\EmotionApp\\venv\\lib\\site-packages\\flask_sqlalchemy\\__init__.py:174\u001b[0m, in \u001b[0;36mSignallingSession.__init__\u001b[1;34m(self, db, autocommit, autoflush, **options)\u001b[0m\n\u001b[0;32m    172\u001b[0m \u001b[39mdef\u001b[39;00m \u001b[39m__init__\u001b[39m(\u001b[39mself\u001b[39m, db, autocommit\u001b[39m=\u001b[39m\u001b[39mFalse\u001b[39;00m, autoflush\u001b[39m=\u001b[39m\u001b[39mTrue\u001b[39;00m, \u001b[39m*\u001b[39m\u001b[39m*\u001b[39moptions):\n\u001b[0;32m    173\u001b[0m     \u001b[39m#: The application that this session belongs to.\u001b[39;00m\n\u001b[1;32m--> 174\u001b[0m     \u001b[39mself\u001b[39m\u001b[39m.\u001b[39mapp \u001b[39m=\u001b[39m app \u001b[39m=\u001b[39m db\u001b[39m.\u001b[39;49mget_app()\n\u001b[0;32m    175\u001b[0m     track_modifications \u001b[39m=\u001b[39m app\u001b[39m.\u001b[39mconfig[\u001b[39m'\u001b[39m\u001b[39mSQLALCHEMY_TRACK_MODIFICATIONS\u001b[39m\u001b[39m'\u001b[39m]\n\u001b[0;32m    176\u001b[0m     bind \u001b[39m=\u001b[39m options\u001b[39m.\u001b[39mpop(\u001b[39m'\u001b[39m\u001b[39mbind\u001b[39m\u001b[39m'\u001b[39m, \u001b[39mNone\u001b[39;00m) \u001b[39mor\u001b[39;00m db\u001b[39m.\u001b[39mengine\n",
      "File \u001b[1;32mc:\\Users\\user\\Desktop\\WebDev Project\\EmotionApp\\venv\\lib\\site-packages\\flask_sqlalchemy\\__init__.py:1042\u001b[0m, in \u001b[0;36mSQLAlchemy.get_app\u001b[1;34m(self, reference_app)\u001b[0m\n\u001b[0;32m   1039\u001b[0m \u001b[39mif\u001b[39;00m \u001b[39mself\u001b[39m\u001b[39m.\u001b[39mapp \u001b[39mis\u001b[39;00m \u001b[39mnot\u001b[39;00m \u001b[39mNone\u001b[39;00m:\n\u001b[0;32m   1040\u001b[0m     \u001b[39mreturn\u001b[39;00m \u001b[39mself\u001b[39m\u001b[39m.\u001b[39mapp\n\u001b[1;32m-> 1042\u001b[0m \u001b[39mraise\u001b[39;00m \u001b[39mRuntimeError\u001b[39;00m(\n\u001b[0;32m   1043\u001b[0m     \u001b[39m'\u001b[39m\u001b[39mNo application found. Either work inside a view function or push\u001b[39m\u001b[39m'\u001b[39m\n\u001b[0;32m   1044\u001b[0m     \u001b[39m'\u001b[39m\u001b[39m an application context. See\u001b[39m\u001b[39m'\u001b[39m\n\u001b[0;32m   1045\u001b[0m     \u001b[39m'\u001b[39m\u001b[39m http://flask-sqlalchemy.pocoo.org/contexts/.\u001b[39m\u001b[39m'\u001b[39m\n\u001b[0;32m   1046\u001b[0m )\n",
      "\u001b[1;31mRuntimeError\u001b[0m: No application found. Either work inside a view function or push an application context. See http://flask-sqlalchemy.pocoo.org/contexts/."
     ]
    }
   ],
   "source": [
    "# Query All Users\n",
    "user = User.query.all()\n",
    "user"
   ]
  },
  {
   "cell_type": "code",
   "execution_count": 5,
   "metadata": {},
   "outputs": [
    {
     "data": {
      "text/plain": [
       "[<Id: 1, published: False, session_title: Test1, consent: afd\n",
       " ajfdlsaj\n",
       " fdakfdka, emotions: happy\n",
       " sad\n",
       " emo, intensity: 3, pre_ques: [\"openended\",\"mcp\\nyes\\nno\"], post_ques: [\"open\",\"mcq\\nye\\nnah\\nmaybe\"], user_id: 2>,\n",
       " <Id: 2, published: True, session_title: Test34, consent: afd\n",
       " ajfdlsaj\n",
       " fdakfdka, emotions: happy\n",
       " sad\n",
       " emo, intensity: 3, pre_ques: [\"openended\",\"mcp\\nyes\\nno\"], post_ques: [\"openended\",\"mcq\\nye\\nnah\\nmaybe\"], user_id: 2>]"
      ]
     },
     "execution_count": 5,
     "metadata": {},
     "output_type": "execute_result"
    }
   ],
   "source": [
    "# Query All Sessions\n",
    "session = Session.query.all()\n",
    "session"
   ]
  },
  {
   "cell_type": "code",
   "execution_count": 4,
   "metadata": {},
   "outputs": [
    {
     "data": {
      "text/plain": [
       "[<Id: 1, stage_num: 5, session_id:2 pre_ques_ans:['safsd', 'yes'], post_ques_ans:['sad', 'emo', 'yes', 'nah']>]"
      ]
     },
     "execution_count": 4,
     "metadata": {},
     "output_type": "execute_result"
    }
   ],
   "source": [
    "# Query all participants\n",
    "participants = Participant.query.all()\n",
    "participants"
   ]
  },
  {
   "cell_type": "code",
   "execution_count": 36,
   "metadata": {},
   "outputs": [
    {
     "data": {
      "text/plain": [
       "[<Id: 1, emotion: sad, timestamp:2022-09-20 02:08:58.526891, intensity:10>,\n",
       " <Id: 2, emotion: happy, timestamp:2022-09-20 02:08:58.532651, intensity:5>,\n",
       " <Id: 3, emotion: sad, timestamp:2022-09-20 02:09:22.834840, intensity:10>,\n",
       " <Id: 4, emotion: happy, timestamp:2022-09-20 02:09:22.835837, intensity:5>,\n",
       " <Id: 5, emotion: sad, timestamp:2022-09-20 02:11:20.166249, intensity:10>,\n",
       " <Id: 6, emotion: happy, timestamp:2022-09-20 02:11:20.169729, intensity:5>,\n",
       " <Id: 7, emotion: sad, timestamp:2022-09-20 02:11:22.178092, intensity:10>,\n",
       " <Id: 8, emotion: happy, timestamp:2022-09-20 02:11:22.179877, intensity:5>,\n",
       " <Id: 9, emotion: sad, timestamp:2022-09-20 02:13:22.518730, intensity:10>,\n",
       " <Id: 10, emotion: happy, timestamp:2022-09-20 02:13:22.525115, intensity:5>,\n",
       " <Id: 11, emotion: sad, timestamp:2022-09-20 02:13:24.246381, intensity:10>,\n",
       " <Id: 12, emotion: happy, timestamp:2022-09-20 02:13:24.246381, intensity:5>,\n",
       " <Id: 13, emotion: sad, timestamp:2022-09-20 02:14:20.533241, intensity:10>,\n",
       " <Id: 14, emotion: happy, timestamp:2022-09-20 02:14:20.535392, intensity:5>,\n",
       " <Id: 15, emotion: sad, timestamp:2022-09-20 02:14:21.239851, intensity:10>,\n",
       " <Id: 16, emotion: happy, timestamp:2022-09-20 02:14:21.239851, intensity:5>,\n",
       " <Id: 17, emotion: happy, timestamp:2022-09-20 03:01:37.022094, intensity:2>,\n",
       " <Id: 18, emotion: sad, timestamp:2022-09-20 03:01:37.031417, intensity:2>]"
      ]
     },
     "execution_count": 36,
     "metadata": {},
     "output_type": "execute_result"
    }
   ],
   "source": [
    "# Query all responses\n",
    "response = Response.query.all()\n",
    "response"
   ]
  },
  {
   "cell_type": "code",
   "execution_count": 25,
   "metadata": {},
   "outputs": [],
   "source": [
    "# Delete all data\n",
    "try:\n",
    "    db.session.query(User).delete()\n",
    "    db.session.query(Participant).delete()\n",
    "    db.session.query(Response).delete()\n",
    "    db.session.query(Session).delete()\n",
    "    db.session.commit()\n",
    "except:\n",
    "    db.session.rollback()"
   ]
  },
  {
   "cell_type": "code",
   "execution_count": 26,
   "metadata": {},
   "outputs": [],
   "source": [
    "# Delete specific rows base on condition\n",
    "participant = Participant.query.filter_by(session_id=12).all()\n",
    "delete_q = Participant.__table__.delete().where(Participant.session_id == 12)\n",
    "db.session.execute(delete_q)\n",
    "db.session.commit()"
   ]
  }
 ],
 "metadata": {
  "kernelspec": {
   "display_name": "Python 3.9.13 ('venv': venv)",
   "language": "python",
   "name": "python3"
  },
  "language_info": {
   "codemirror_mode": {
    "name": "ipython",
    "version": 3
   },
   "file_extension": ".py",
   "mimetype": "text/x-python",
   "name": "python",
   "nbconvert_exporter": "python",
   "pygments_lexer": "ipython3",
   "version": "3.9.13"
  },
  "orig_nbformat": 4,
  "vscode": {
   "interpreter": {
    "hash": "33cf019bd40803a129f97b35411542b67434196ef728b81d71bee81e37351f95"
   }
  }
 },
 "nbformat": 4,
 "nbformat_minor": 2
}
