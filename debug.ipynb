{
 "cells": [
  {
   "cell_type": "code",
   "execution_count": 20,
   "metadata": {},
   "outputs": [],
   "source": [
    "import sys\n",
    "sys.path.append(\"..\") # allows for the previous directory to be searched too\n",
    "from app import db\n",
    "from app.models import User,Session,Participant,Response #imports all tables\n",
    "from sqlalchemy import func"
   ]
  },
  {
   "cell_type": "code",
   "execution_count": 21,
   "metadata": {},
   "outputs": [
    {
     "data": {
      "text/plain": [
       "[]"
      ]
     },
     "execution_count": 21,
     "metadata": {},
     "output_type": "execute_result"
    }
   ],
   "source": [
    "# Query All Users\n",
    "user = User.query.all()\n",
    "user"
   ]
  },
  {
   "cell_type": "code",
   "execution_count": 37,
   "metadata": {},
   "outputs": [
    {
     "data": {
      "text/plain": [
       "[<Id: 1, published: True, session_title: CITS3002, consent: fdsafdshocdhsochdso\n",
       " ajfoidsajfdiosjaf\n",
       " fdoiajfiodajfiods, emotions: happy\\nsad\\nmoody\\nfrustrated, intensity: 4, pre_ques: [\"test123\\nyes\\nno\",\"openended\"], post_ques: [\"openedned\",\"test123\\nyes\\nno\"], user_id: 2>,\n",
       " <Id: 2, published: False, session_title: CITS3001, consent: consent\n",
       " consent, emotions: sad\n",
       " happy\n",
       " moody\n",
       " lovely\n",
       " excited, intensity: 6, pre_ques: [\"mcq\\nyes\\nno\",\"open-ended\"], post_ques: [\"open-endedd\",\"mcqsq\\nyes\\nno\"], user_id: 2>]"
      ]
     },
     "execution_count": 37,
     "metadata": {},
     "output_type": "execute_result"
    }
   ],
   "source": [
    "# Query All Sessions\n",
    "session = Session.query.all()\n",
    "session"
   ]
  },
  {
   "cell_type": "code",
   "execution_count": 35,
   "metadata": {},
   "outputs": [
    {
     "data": {
      "text/plain": [
       "[<Id: 1, stage_num: 3, session_id:1 pre_ques_ans:['yes', 'i love it'], post_ques_ans:None>,\n",
       " <Id: 2, stage_num: 4, session_id:1 pre_ques_ans:['yes', 'i dont know'], post_ques_ans:None>,\n",
       " <Id: 3, stage_num: 5, session_id:1 pre_ques_ans:['no', 'hihi'], post_ques_ans:['test', 'no']>,\n",
       " <Id: 4, stage_num: 5, session_id:1 pre_ques_ans:['no', 'dgf'], post_ques_ans:['nah', 'yes']>]"
      ]
     },
     "execution_count": 35,
     "metadata": {},
     "output_type": "execute_result"
    }
   ],
   "source": [
    "# Query all participants\n",
    "participants = Participant.query.all()\n",
    "participants"
   ]
  },
  {
   "cell_type": "code",
   "execution_count": 36,
   "metadata": {},
   "outputs": [
    {
     "data": {
      "text/plain": [
       "[<Id: 1, emotion: sad, timestamp:2022-09-20 02:08:58.526891, intensity:10>,\n",
       " <Id: 2, emotion: happy, timestamp:2022-09-20 02:08:58.532651, intensity:5>,\n",
       " <Id: 3, emotion: sad, timestamp:2022-09-20 02:09:22.834840, intensity:10>,\n",
       " <Id: 4, emotion: happy, timestamp:2022-09-20 02:09:22.835837, intensity:5>,\n",
       " <Id: 5, emotion: sad, timestamp:2022-09-20 02:11:20.166249, intensity:10>,\n",
       " <Id: 6, emotion: happy, timestamp:2022-09-20 02:11:20.169729, intensity:5>,\n",
       " <Id: 7, emotion: sad, timestamp:2022-09-20 02:11:22.178092, intensity:10>,\n",
       " <Id: 8, emotion: happy, timestamp:2022-09-20 02:11:22.179877, intensity:5>,\n",
       " <Id: 9, emotion: sad, timestamp:2022-09-20 02:13:22.518730, intensity:10>,\n",
       " <Id: 10, emotion: happy, timestamp:2022-09-20 02:13:22.525115, intensity:5>,\n",
       " <Id: 11, emotion: sad, timestamp:2022-09-20 02:13:24.246381, intensity:10>,\n",
       " <Id: 12, emotion: happy, timestamp:2022-09-20 02:13:24.246381, intensity:5>,\n",
       " <Id: 13, emotion: sad, timestamp:2022-09-20 02:14:20.533241, intensity:10>,\n",
       " <Id: 14, emotion: happy, timestamp:2022-09-20 02:14:20.535392, intensity:5>,\n",
       " <Id: 15, emotion: sad, timestamp:2022-09-20 02:14:21.239851, intensity:10>,\n",
       " <Id: 16, emotion: happy, timestamp:2022-09-20 02:14:21.239851, intensity:5>,\n",
       " <Id: 17, emotion: happy, timestamp:2022-09-20 03:01:37.022094, intensity:2>,\n",
       " <Id: 18, emotion: sad, timestamp:2022-09-20 03:01:37.031417, intensity:2>]"
      ]
     },
     "execution_count": 36,
     "metadata": {},
     "output_type": "execute_result"
    }
   ],
   "source": [
    "# Query all responses\n",
    "response = Response.query.all()\n",
    "response"
   ]
  },
  {
   "cell_type": "code",
   "execution_count": 25,
   "metadata": {},
   "outputs": [],
   "source": [
    "# Delete all data\n",
    "try:\n",
    "    db.session.query(User).delete()\n",
    "    db.session.query(Participant).delete()\n",
    "    db.session.query(Response).delete()\n",
    "    db.session.query(Session).delete()\n",
    "    db.session.commit()\n",
    "except:\n",
    "    db.session.rollback()"
   ]
  },
  {
   "cell_type": "code",
   "execution_count": 26,
   "metadata": {},
   "outputs": [],
   "source": [
    "# Delete specific rows base on condition\n",
    "participant = Participant.query.filter_by(session_id=12).all()\n",
    "delete_q = Participant.__table__.delete().where(Participant.session_id == 12)\n",
    "db.session.execute(delete_q)\n",
    "db.session.commit()"
   ]
  }
 ],
 "metadata": {
  "kernelspec": {
   "display_name": "Python 3.9.13 ('venv': venv)",
   "language": "python",
   "name": "python3"
  },
  "language_info": {
   "codemirror_mode": {
    "name": "ipython",
    "version": 3
   },
   "file_extension": ".py",
   "mimetype": "text/x-python",
   "name": "python",
   "nbconvert_exporter": "python",
   "pygments_lexer": "ipython3",
   "version": "3.9.13"
  },
  "orig_nbformat": 4,
  "vscode": {
   "interpreter": {
    "hash": "33cf019bd40803a129f97b35411542b67434196ef728b81d71bee81e37351f95"
   }
  }
 },
 "nbformat": 4,
 "nbformat_minor": 2
}
