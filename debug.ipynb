{
 "cells": [
  {
   "cell_type": "code",
   "execution_count": 2,
   "metadata": {},
   "outputs": [],
   "source": [
    "import sys\n",
    "sys.path.append(\"..\") # allows for the previous directory to be searched too\n",
    "from app import db\n",
    "from app.models import User,Session,Participant,Response #imports all tables\n",
    "from sqlalchemy import func"
   ]
  },
  {
   "cell_type": "code",
   "execution_count": 2,
   "metadata": {},
   "outputs": [
    {
     "data": {
      "text/plain": [
       "'sqlite:///c:\\\\Users\\\\user\\\\Desktop\\\\WebDev Project\\\\EmotionApp\\\\app.db'"
      ]
     },
     "execution_count": 2,
     "metadata": {},
     "output_type": "execute_result"
    }
   ],
   "source": [
    "from app import create_app\n",
    "app = create_app()\n",
    "app.app_context().push()\n",
    "\n",
    "from flask import current_app\n",
    "sys.path.append(\"..\") \n",
    "from app import db\n",
    "from app.models import User,Session,Participant,Response #imports all tables\n",
    "from sqlalchemy import func\n",
    "\n",
    "current_app.config['SQLALCHEMY_DATABASE_URI']"
   ]
  },
  {
   "cell_type": "code",
   "execution_count": 5,
   "metadata": {},
   "outputs": [
    {
     "data": {
      "text/plain": [
       "[<Id: 1, Username: Carmen, Email: carmen020824@gmail.com>,\n",
       " <Id: 2, Username: Superadmin, Email: emotionappmoodtrack@gmail.com>]"
      ]
     },
     "execution_count": 5,
     "metadata": {},
     "output_type": "execute_result"
    }
   ],
   "source": [
    "# Query All Users\n",
    "user = User.query.all()\n",
    "user"
   ]
  },
  {
   "cell_type": "code",
   "execution_count": 6,
   "metadata": {},
   "outputs": [
    {
     "data": {
      "text/plain": [
       "[<Id: 1, published: False, session_title: Test, consent: 123, emotions: sad\n",
       " happy\n",
       " emo, intensity: 3, pre_ques: [\"yes\",\"open\\nno\\nyes\"], post_ques: [\"sad\\nno\\nyes\",\"happy?\"], user_id: 1>]"
      ]
     },
     "execution_count": 6,
     "metadata": {},
     "output_type": "execute_result"
    }
   ],
   "source": [
    "# Query All Sessions\n",
    "session = Session.query.all()\n",
    "session"
   ]
  },
  {
   "cell_type": "code",
   "execution_count": 4,
   "metadata": {},
   "outputs": [
    {
     "data": {
      "text/plain": [
       "[<Id: 1, stage_num: 5, session_id:2 pre_ques_ans:['safsd', 'yes'], post_ques_ans:['sad', 'emo', 'yes', 'nah']>]"
      ]
     },
     "execution_count": 4,
     "metadata": {},
     "output_type": "execute_result"
    }
   ],
   "source": [
    "# Query all participants\n",
    "participants = Participant.query.all()\n",
    "participants"
   ]
  },
  {
   "cell_type": "code",
   "execution_count": 36,
   "metadata": {},
   "outputs": [
    {
     "data": {
      "text/plain": [
       "[<Id: 1, emotion: sad, timestamp:2022-09-20 02:08:58.526891, intensity:10>,\n",
       " <Id: 2, emotion: happy, timestamp:2022-09-20 02:08:58.532651, intensity:5>,\n",
       " <Id: 3, emotion: sad, timestamp:2022-09-20 02:09:22.834840, intensity:10>,\n",
       " <Id: 4, emotion: happy, timestamp:2022-09-20 02:09:22.835837, intensity:5>,\n",
       " <Id: 5, emotion: sad, timestamp:2022-09-20 02:11:20.166249, intensity:10>,\n",
       " <Id: 6, emotion: happy, timestamp:2022-09-20 02:11:20.169729, intensity:5>,\n",
       " <Id: 7, emotion: sad, timestamp:2022-09-20 02:11:22.178092, intensity:10>,\n",
       " <Id: 8, emotion: happy, timestamp:2022-09-20 02:11:22.179877, intensity:5>,\n",
       " <Id: 9, emotion: sad, timestamp:2022-09-20 02:13:22.518730, intensity:10>,\n",
       " <Id: 10, emotion: happy, timestamp:2022-09-20 02:13:22.525115, intensity:5>,\n",
       " <Id: 11, emotion: sad, timestamp:2022-09-20 02:13:24.246381, intensity:10>,\n",
       " <Id: 12, emotion: happy, timestamp:2022-09-20 02:13:24.246381, intensity:5>,\n",
       " <Id: 13, emotion: sad, timestamp:2022-09-20 02:14:20.533241, intensity:10>,\n",
       " <Id: 14, emotion: happy, timestamp:2022-09-20 02:14:20.535392, intensity:5>,\n",
       " <Id: 15, emotion: sad, timestamp:2022-09-20 02:14:21.239851, intensity:10>,\n",
       " <Id: 16, emotion: happy, timestamp:2022-09-20 02:14:21.239851, intensity:5>,\n",
       " <Id: 17, emotion: happy, timestamp:2022-09-20 03:01:37.022094, intensity:2>,\n",
       " <Id: 18, emotion: sad, timestamp:2022-09-20 03:01:37.031417, intensity:2>]"
      ]
     },
     "execution_count": 36,
     "metadata": {},
     "output_type": "execute_result"
    }
   ],
   "source": [
    "# Query all responses\n",
    "response = Response.query.all()\n",
    "response"
   ]
  },
  {
   "cell_type": "code",
   "execution_count": 25,
   "metadata": {},
   "outputs": [],
   "source": [
    "# Delete all data\n",
    "try:\n",
    "    db.session.query(User).delete()\n",
    "    db.session.query(Participant).delete()\n",
    "    db.session.query(Response).delete()\n",
    "    db.session.query(Session).delete()\n",
    "    db.session.commit()\n",
    "except:\n",
    "    db.session.rollback()"
   ]
  },
  {
   "cell_type": "code",
   "execution_count": 26,
   "metadata": {},
   "outputs": [],
   "source": [
    "# Delete specific rows base on condition\n",
    "participant = Participant.query.filter_by(session_id=12).all()\n",
    "delete_q = Participant.__table__.delete().where(Participant.session_id == 12)\n",
    "db.session.execute(delete_q)\n",
    "db.session.commit()"
   ]
  }
 ],
 "metadata": {
  "kernelspec": {
   "display_name": "Python 3.9.13 ('venv': venv)",
   "language": "python",
   "name": "python3"
  },
  "language_info": {
   "codemirror_mode": {
    "name": "ipython",
    "version": 3
   },
   "file_extension": ".py",
   "mimetype": "text/x-python",
   "name": "python",
   "nbconvert_exporter": "python",
   "pygments_lexer": "ipython3",
   "version": "3.9.13"
  },
  "orig_nbformat": 4,
  "vscode": {
   "interpreter": {
    "hash": "33cf019bd40803a129f97b35411542b67434196ef728b81d71bee81e37351f95"
   }
  }
 },
 "nbformat": 4,
 "nbformat_minor": 2
}
